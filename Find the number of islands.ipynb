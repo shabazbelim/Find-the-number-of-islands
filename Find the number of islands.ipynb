{
 "cells": [
  {
   "cell_type": "code",
   "execution_count": 1,
   "metadata": {},
   "outputs": [],
   "source": [
    "import numpy as np\n",
    "def summary(graph, visited, irow, jcol):\n",
    "    row, col = graph.shape\n",
    "    for i in range(max(0, irow-1), min(irow+2, row)):\n",
    "        for j in range(max(0, jcol-1), min(jcol+2, col)):\n",
    "            visited[i][j] = 1\n",
    "    return visited\n",
    "\n",
    "def calculate_num_characters(graph):\n",
    "    graph = np.array(graph)\n",
    "\n",
    "    row, col = graph.shape\n",
    "\n",
    "    visited = np.zeros((row, col))\n",
    "\n",
    "    shapes = 0\n",
    "    for i in range(0, row):\n",
    "        for j in range(0, col):\n",
    "            if visited[i][j] == 0 and graph[i][j] ==1:\n",
    "                shapes = shapes + 1\n",
    "            if(graph[i][j]==1):\n",
    "                visited = summary(graph, visited, i, j)\n",
    "    return shapes"
   ]
  },
  {
   "cell_type": "code",
   "execution_count": 2,
   "metadata": {},
   "outputs": [],
   "source": [
    "# Binary image\n",
    "graph = [[0,0,0,0,0,0,0,0,0,0,0,0,0,0,0,0,0,],\n",
    "[0,0,0,0,1,1,0,0,0,0,0,1,1,1,1,0,0],\n",
    "[0,0,0,1,0,1,0,0,0,0,1,0,0,0,1,0,0],\n",
    "[0,0,1,0,0,1,0,0,0,0,0,0,0,1,0,0,0],\n",
    "[0,0,1,1,1,1,1,0,0,0,0,0,1,0,0,0,0],\n",
    "[0,0,0,0,0,1,0,0,0,0,0,1,0,0,0,0,0],\n",
    "[0,0,0,0,0,1,0,0,0,0,1,1,1,1,1,0,0],\n",
    "[0,0,0,0,0,0,0,0,0,0,0,0,0,0,0,0,0]]\n",
    "\n",
    "num_count = calculate_num_characters(graph)"
   ]
  },
  {
   "cell_type": "code",
   "execution_count": 3,
   "metadata": {},
   "outputs": [
    {
     "name": "stdout",
     "output_type": "stream",
     "text": [
      "2\n"
     ]
    }
   ],
   "source": [
    "print(num_count)"
   ]
  },
  {
   "cell_type": "code",
   "execution_count": 4,
   "metadata": {},
   "outputs": [],
   "source": [
    "graph = [[1, 1, 0, 0, 0], \n",
    "    [0, 1, 0, 0, 1], \n",
    "    [1, 0, 0, 1, 1], \n",
    "    [0, 0, 0, 0, 0], \n",
    "    [1, 0, 1, 0, 1]] \n",
    "num_count = calculate_num_characters(graph)"
   ]
  },
  {
   "cell_type": "code",
   "execution_count": 5,
   "metadata": {},
   "outputs": [
    {
     "name": "stdout",
     "output_type": "stream",
     "text": [
      "5\n"
     ]
    }
   ],
   "source": [
    "print(num_count)"
   ]
  },
  {
   "cell_type": "code",
   "execution_count": null,
   "metadata": {},
   "outputs": [],
   "source": []
  }
 ],
 "metadata": {
  "kernelspec": {
   "display_name": "Python 3",
   "language": "python",
   "name": "python3"
  },
  "language_info": {
   "codemirror_mode": {
    "name": "ipython",
    "version": 3
   },
   "file_extension": ".py",
   "mimetype": "text/x-python",
   "name": "python",
   "nbconvert_exporter": "python",
   "pygments_lexer": "ipython3",
   "version": "3.6.7"
  }
 },
 "nbformat": 4,
 "nbformat_minor": 2
}
